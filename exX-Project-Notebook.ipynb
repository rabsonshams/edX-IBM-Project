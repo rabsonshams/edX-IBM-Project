{
    "cells": [
        {
            "metadata": {},
            "cell_type": "code",
            "source": "(\"Hello World!\")",
            "execution_count": 1,
            "outputs": [
                {
                    "output_type": "display_data",
                    "data": {
                        "text/html": "'Hello World!'",
                        "text/markdown": "'Hello World!'",
                        "text/latex": "'Hello World!'",
                        "text/plain": "[1] \"Hello World!\""
                    },
                    "metadata": {}
                }
            ]
        },
        {
            "metadata": {},
            "cell_type": "code",
            "source": "R <- \"Jupyter Notebook\"",
            "execution_count": 2,
            "outputs": []
        },
        {
            "metadata": {},
            "cell_type": "code",
            "source": "R",
            "execution_count": 3,
            "outputs": [
                {
                    "output_type": "display_data",
                    "data": {
                        "text/html": "'Jupyter Notebook'",
                        "text/markdown": "'Jupyter Notebook'",
                        "text/latex": "'Jupyter Notebook'",
                        "text/plain": "[1] \"Jupyter Notebook\""
                    },
                    "metadata": {}
                }
            ]
        },
        {
            "metadata": {},
            "cell_type": "code",
            "source": "print(\"R\")",
            "execution_count": 4,
            "outputs": [
                {
                    "output_type": "stream",
                    "text": "[1] \"R\"\n",
                    "name": "stdout"
                }
            ]
        },
        {
            "metadata": {},
            "cell_type": "code",
            "source": "print(R)",
            "execution_count": 5,
            "outputs": [
                {
                    "output_type": "stream",
                    "text": "[1] \"Jupyter Notebook\"\n",
                    "name": "stdout"
                }
            ]
        },
        {
            "metadata": {},
            "cell_type": "code",
            "source": "v1 <- c(1,2,3,4,5,6,7,8,9,10)",
            "execution_count": 6,
            "outputs": []
        },
        {
            "metadata": {},
            "cell_type": "code",
            "source": "temp <- c(v1)",
            "execution_count": 8,
            "outputs": []
        },
        {
            "metadata": {},
            "cell_type": "code",
            "source": "print(temp)",
            "execution_count": 9,
            "outputs": [
                {
                    "output_type": "stream",
                    "text": " [1]  1  2  3  4  5  6  7  8  9 10\n",
                    "name": "stdout"
                }
            ]
        },
        {
            "metadata": {},
            "cell_type": "code",
            "source": "# ",
            "execution_count": null,
            "outputs": []
        }
    ],
    "metadata": {
        "kernelspec": {
            "name": "r-3.6",
            "display_name": "R 3.6",
            "language": "R"
        },
        "language_info": {
            "name": "R",
            "codemirror_mode": "r",
            "pygments_lexer": "r",
            "mimetype": "text/x-r-source",
            "file_extension": ".r",
            "version": "3.6.1"
        }
    },
    "nbformat": 4,
    "nbformat_minor": 1
}